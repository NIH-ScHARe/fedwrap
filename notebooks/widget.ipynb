{
 "cells": [
  {
   "cell_type": "code",
   "execution_count": 1,
   "id": "c5bb65b3",
   "metadata": {},
   "outputs": [
    {
     "data": {
      "application/vnd.jupyter.widget-view+json": {
       "model_id": "2e3f49616362474a9e4bd60c0716f7fc",
       "version_major": 2,
       "version_minor": 0
      },
      "text/plain": [
       "VBox(children=(HTML(value='<h3>Federal Data – Quick Picker</h3>'), Dropdown(description='Dataset', options=('A…"
      ]
     },
     "metadata": {},
     "output_type": "display_data"
    },
    {
     "data": {
      "text/plain": [
       "<fedwrap.widget.explorer.Explorer at 0x22ba3a52e10>"
      ]
     },
     "execution_count": 1,
     "metadata": {},
     "output_type": "execute_result"
    }
   ],
   "source": [
    "from fedwrap.widget import display_explorer\n",
    "\n",
    "display_explorer()"
   ]
  }
 ],
 "metadata": {
  "kernelspec": {
   "display_name": "fedwrap",
   "language": "python",
   "name": "python3"
  },
  "language_info": {
   "codemirror_mode": {
    "name": "ipython",
    "version": 3
   },
   "file_extension": ".py",
   "mimetype": "text/x-python",
   "name": "python",
   "nbconvert_exporter": "python",
   "pygments_lexer": "ipython3",
   "version": "3.11.13"
  }
 },
 "nbformat": 4,
 "nbformat_minor": 5
}
