{
 "cells": [
  {
   "cell_type": "markdown",
   "id": "d31156dd-b153-4f9e-a139-93ec6ac00e70",
   "metadata": {},
   "source": [
    "# get_mortgage_status() demo\n",
    "\n",
    "A quick demonstration of the get_mortgage_status() function from the ACS_data_retriever library. The function is used to gather the proportion of housing units with and without mortgages in Massachusetts over the 15 year period covered by the American Communities Survey and then displays the change in percentage of each group over time. "
   ]
  },
  {
   "cell_type": "markdown",
   "id": "026abe94-ef9c-412a-b311-6cc84f0786ee",
   "metadata": {},
   "source": [
    "We start by importing the necessary packages"
   ]
  },
  {
   "cell_type": "code",
   "execution_count": null,
   "id": "1fd7aef4-920d-467b-88d3-069150815ced",
   "metadata": {},
   "outputs": [],
   "source": [
    "# Get the root directory of the project (assumes the notebook is in /notebooks)\n",
    "import os\n",
    "import sys\n",
    "project_root = os.path.abspath(os.path.join(os.path.dirname(\"__file__\"), '..'))\n",
    "if project_root not in sys.path:\n",
    "    sys.path.insert(0, project_root)\n",
    "\n",
    "# import other packages \n",
    "from census_acs import get_mortgage_status\n",
    "import matplotlib.pyplot as plt \n",
    "import numpy as np \n",
    "import pandas as pd "
   ]
  },
  {
   "cell_type": "markdown",
   "id": "c26a3150-152d-438d-a694-bc9a316a18b1",
   "metadata": {},
   "source": [
    "The data is then gathered. To get data for Massachusetts, we use the MA ucgid code (0400000US25) and index each year's data for that code in the loop. We end by checking the resulting dataframe to make sure we gathered all the correct data. "
   ]
  },
  {
   "cell_type": "code",
   "execution_count": 4,
   "id": "281cefd2-93dc-4f71-b767-8b304167b157",
   "metadata": {},
   "outputs": [
    {
     "data": {
      "text/html": [
       "<div>\n",
       "<style scoped>\n",
       "    .dataframe tbody tr th:only-of-type {\n",
       "        vertical-align: middle;\n",
       "    }\n",
       "\n",
       "    .dataframe tbody tr th {\n",
       "        vertical-align: top;\n",
       "    }\n",
       "\n",
       "    .dataframe thead th {\n",
       "        text-align: right;\n",
       "    }\n",
       "</style>\n",
       "<table border=\"1\" class=\"dataframe\">\n",
       "  <thead>\n",
       "    <tr style=\"text-align: right;\">\n",
       "      <th></th>\n",
       "      <th>ucgid</th>\n",
       "      <th>Housing units with a mortgage</th>\n",
       "      <th>Housing units without a mortgage</th>\n",
       "      <th>Year</th>\n",
       "    </tr>\n",
       "  </thead>\n",
       "  <tbody>\n",
       "    <tr>\n",
       "      <th>0</th>\n",
       "      <td>0400000US25</td>\n",
       "      <td>72.3</td>\n",
       "      <td>27.7</td>\n",
       "      <td>2009</td>\n",
       "    </tr>\n",
       "    <tr>\n",
       "      <th>1</th>\n",
       "      <td>0400000US25</td>\n",
       "      <td>72.2</td>\n",
       "      <td>27.8</td>\n",
       "      <td>2010</td>\n",
       "    </tr>\n",
       "    <tr>\n",
       "      <th>2</th>\n",
       "      <td>0400000US25</td>\n",
       "      <td>72.1</td>\n",
       "      <td>27.9</td>\n",
       "      <td>2011</td>\n",
       "    </tr>\n",
       "    <tr>\n",
       "      <th>3</th>\n",
       "      <td>0400000US25</td>\n",
       "      <td>72.1</td>\n",
       "      <td>27.9</td>\n",
       "      <td>2012</td>\n",
       "    </tr>\n",
       "    <tr>\n",
       "      <th>4</th>\n",
       "      <td>0400000US25</td>\n",
       "      <td>71.7</td>\n",
       "      <td>28.3</td>\n",
       "      <td>2013</td>\n",
       "    </tr>\n",
       "  </tbody>\n",
       "</table>\n",
       "</div>"
      ],
      "text/plain": [
       "         ucgid  Housing units with a mortgage  \\\n",
       "0  0400000US25                           72.3   \n",
       "1  0400000US25                           72.2   \n",
       "2  0400000US25                           72.1   \n",
       "3  0400000US25                           72.1   \n",
       "4  0400000US25                           71.7   \n",
       "\n",
       "   Housing units without a mortgage  Year  \n",
       "0                              27.7  2009  \n",
       "1                              27.8  2010  \n",
       "2                              27.9  2011  \n",
       "3                              27.9  2012  \n",
       "4                              28.3  2013  "
      ]
     },
     "execution_count": 4,
     "metadata": {},
     "output_type": "execute_result"
    }
   ],
   "source": [
    "# set code for Massachusetts \n",
    "MAcode = '0400000US25'\n",
    "\n",
    "# initialize DataFrame \n",
    "MA_data = pd.DataFrame()\n",
    "\n",
    "# iterate through all years of the ACS and gather data for MA\n",
    "for year in np.arange(2009,2024):\n",
    "\n",
    "    # make API call for single year data \n",
    "    year_data = get_mortgage_status(str(year),'state',as_percent=True)\n",
    "    \n",
    "    # extract row for Massachusetts \n",
    "    year_MA_data = year_data[year_data['ucgid'] == MAcode].copy()\n",
    "    \n",
    "    # add value for year \n",
    "    year_MA_data['Year'] = year\n",
    "\n",
    "    # concatenate to MA DataFrame \n",
    "    MA_data = pd.concat([MA_data,year_MA_data],ignore_index = True)\n",
    "\n",
    "# check dataframe \n",
    "MA_data.head()"
   ]
  },
  {
   "cell_type": "markdown",
   "id": "4510bd2a-faa2-4b16-bf4f-8873395100ae",
   "metadata": {},
   "source": [
    "Lastly, to visualize the change in each group, we normalize the values to the first year (2009) and then plot the change over time. "
   ]
  },
  {
   "cell_type": "code",
   "execution_count": 6,
   "id": "28b2fe45-1518-4b41-9cbb-80da2b0c98fe",
   "metadata": {},
   "outputs": [
    {
     "data": {
      "image/png": "[encoded data removed]",
      "text/plain": [
       "<Figure size 700x400 with 1 Axes>"
      ]
     },
     "metadata": {},
     "output_type": "display_data"
    }
   ],
   "source": [
    "# plot change over time  \n",
    "\n",
    "# get subset of columns for plotting \n",
    "MA_subset = MA_data.drop(columns=['ucgid','Year'])\n",
    "\n",
    "# normalize to 2009 data \n",
    "MA_subset = MA_subset.div(MA_subset.iloc[0])\n",
    "\n",
    "# set figure size \n",
    "plt.figure(figsize=(7,4))\n",
    "\n",
    "# plot each marital status \n",
    "for i,col in enumerate(MA_subset.columns):\n",
    "    plt.plot(MA_data['Year'],MA_subset[col], label=col)\n",
    "\n",
    "# display legend \n",
    "plt.legend(frameon=0,ncol=3)\n",
    "\n",
    "# title plot \n",
    "plt.title('Change in mortgage status, Massachusetts')\n",
    "\n",
    "# label each x tick with the year \n",
    "plt.xlim([2009,2023])\n",
    "plt.xticks(np.arange(2009,2024))\n",
    "\n",
    "# display plot \n",
    "plt.tight_layout()\n",
    "plt.show()"
   ]
  }
 ],
 "metadata": {
  "kernelspec": {
   "display_name": "Python 3 (ipykernel)",
   "language": "python",
   "name": "python3"
  },
  "language_info": {
   "codemirror_mode": {
    "name": "ipython",
    "version": 3
   },
   "file_extension": ".py",
   "mimetype": "text/x-python",
   "name": "python",
   "nbconvert_exporter": "python",
   "pygments_lexer": "ipython3",
   "version": "3.12.4"
  }
 },
 "nbformat": 4,
 "nbformat_minor": 5
}
